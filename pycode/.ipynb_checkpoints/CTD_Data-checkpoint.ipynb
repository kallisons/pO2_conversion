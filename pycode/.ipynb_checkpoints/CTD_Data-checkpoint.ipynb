{
 "cells": [
  {
   "cell_type": "code",
   "execution_count": 1,
   "metadata": {
    "collapsed": false
   },
   "outputs": [],
   "source": [
    "%matplotlib inline  \n",
    "import scipy\n",
    "from mpl_toolkits.basemap import Basemap, addcyclic, shiftgrid\n",
    "from netCDF4 import Dataset\n",
    "import numpy as np\n",
    "import matplotlib.pyplot as plt\n",
    "import matplotlib.mlab as mlab\n",
    "import pandas\n",
    "import glob\n",
    "import time\n",
    "import datetime\n",
    "import calendar\n",
    "from seabird.cnv import fCNV"
   ]
  },
  {
   "cell_type": "code",
   "execution_count": 2,
   "metadata": {
    "collapsed": false
   },
   "outputs": [
    {
     "data": {
      "text/plain": [
       "['../data/allCasts/001_line3.cnv',\n",
       " '../data/allCasts/002_line3.cnv',\n",
       " '../data/allCasts/sta003.cnv',\n",
       " '../data/allCasts/sta004.cnv',\n",
       " '../data/allCasts/sta005.cnv']"
      ]
     },
     "execution_count": 2,
     "metadata": {},
     "output_type": "execute_result"
    }
   ],
   "source": [
    "Folder = '../data/allCasts/'\n",
    "filelist = glob.glob(Folder + '*')\n",
    "filelist[0:5]"
   ]
  },
  {
   "cell_type": "code",
   "execution_count": 3,
   "metadata": {
    "collapsed": false
   },
   "outputs": [
    {
     "name": "stdout",
     "output_type": "stream",
     "text": [
      "{'gps_datetime': 'Mar 17 2012 17:13:41', 'LONGITUDE': -117.4025, 'file_type': 'ascii', 'seasave': 'V 7.21b', 'datetime': datetime.datetime(2012, 3, 17, 17, 13, 43), 'md5': '4f1b84807a482afecdc84a7e90f95cfb', 'filename': '001_line3.cnv', 'nquan': '26', 'sbe_model': '9', 'start_time': 'Mar 17 2012 17:13:43 [System UTC, first data scan.]', 'instrument_type': 'CTD', 'nvalues': '135', 'LATITUDE': 32.58533333333333, 'bad_flag': '-9.990e-29'}\n",
      "{'gps_datetime': 'Mar 17 2012 18:22:50', 'LONGITUDE': -117.47516666666667, 'file_type': 'ascii', 'seasave': 'V 7.21b', 'datetime': datetime.datetime(2012, 3, 17, 18, 22, 51), 'md5': 'cba021367b9800d6d3b0d7f13d1e853b', 'filename': '002_line3.cnv', 'nquan': '26', 'sbe_model': '9', 'start_time': 'Mar 17 2012 18:22:51 [System UTC, first data scan.]', 'instrument_type': 'CTD', 'nvalues': '1175', 'LATITUDE': 32.6035, 'bad_flag': '-9.990e-29'}\n",
      "{'gps_datetime': 'Mar 19 2012 09:48:25', 'LONGITUDE': -114.2145, 'file_type': 'ascii', 'seasave': 'V 7.21b', 'datetime': datetime.datetime(2012, 3, 19, 9, 48, 27), 'md5': '19d56979e4faedd92ef82cbcd6428b82', 'filename': 'sta003.cnv', 'nquan': '26', 'sbe_model': '9', 'start_time': 'Mar 19 2012 09:48:27 [System UTC, first data scan.]', 'instrument_type': 'CTD', 'nvalues': '1200', 'LATITUDE': 25.966833333333334, 'bad_flag': '-9.990e-29'}\n",
      "{'gps_datetime': 'Mar 19 2012 16:05:30', 'LONGITUDE': -113.63216666666666, 'file_type': 'ascii', 'seasave': 'V 7.21b', 'datetime': datetime.datetime(2012, 3, 19, 16, 5, 32), 'md5': '57ca6c05d55ebeb0a832fb52358c7413', 'filename': 'sta004.cnv', 'nquan': '26', 'sbe_model': '9', 'start_time': 'Mar 19 2012 16:05:32 [System UTC, first data scan.]', 'instrument_type': 'CTD', 'nvalues': '998', 'LATITUDE': 25.199833333333334, 'bad_flag': '-9.990e-29'}\n",
      "{'gps_datetime': 'Mar 19 2012 19:51:46', 'LONGITUDE': -113.10033333333334, 'file_type': 'ascii', 'seasave': 'V 7.21b', 'datetime': datetime.datetime(2012, 3, 19, 19, 51, 47), 'md5': '7c796fe30a621745dd59879b610ba6a6', 'filename': 'sta005.cnv', 'nquan': '26', 'sbe_model': '9', 'start_time': 'Mar 19 2012 19:51:47 [System UTC, first data scan.]', 'instrument_type': 'CTD', 'nvalues': '990', 'LATITUDE': 25.199833333333334, 'bad_flag': '-9.990e-29'}\n",
      "{'gps_datetime': 'Mar 20 2012 02:26:25', 'LONGITUDE': -112.73316666666666, 'file_type': 'ascii', 'seasave': 'V 7.21b', 'datetime': datetime.datetime(2012, 3, 20, 2, 26, 27), 'md5': '8505dd38253feab83253f3cbc74a6076', 'filename': 'sta006.cnv', 'nquan': '26', 'sbe_model': '9', 'start_time': 'Mar 20 2012 02:26:27 [System UTC, first data scan.]', 'instrument_type': 'CTD', 'nvalues': '527', 'LATITUDE': 25.2, 'bad_flag': '-9.990e-29'}\n",
      "{'gps_datetime': 'Mar 20 2012 06:58:08', 'LONGITUDE': -112.73316666666666, 'file_type': 'ascii', 'seasave': 'V 7.21b', 'datetime': datetime.datetime(2012, 3, 20, 6, 58, 9), 'md5': '6e1060c7e8376b9ab2ca848af214a4d0', 'filename': 'sta006b.cnv', 'nquan': '26', 'sbe_model': '9', 'start_time': 'Mar 20 2012 06:58:09 [System UTC, first data scan.]', 'instrument_type': 'CTD', 'nvalues': '540', 'LATITUDE': 25.199833333333334, 'bad_flag': '-9.990e-29'}\n",
      "{'gps_datetime': 'Mar 20 2012 10:46:18', 'LONGITUDE': -112.631, 'file_type': 'ascii', 'seasave': 'V 7.21b', 'datetime': datetime.datetime(2012, 3, 20, 10, 46, 20), 'md5': '76013eccf31523bada8ac1e8c00cd724', 'filename': 'sta007.cnv', 'nquan': '26', 'sbe_model': '9', 'start_time': 'Mar 20 2012 10:46:20 [System UTC, first data scan.]', 'instrument_type': 'CTD', 'nvalues': '319', 'LATITUDE': 25.199666666666666, 'bad_flag': '-9.990e-29'}\n",
      "{'gps_datetime': 'Mar 20 2012 13:48:59', 'LONGITUDE': -112.36583333333333, 'file_type': 'ascii', 'seasave': 'V 7.21b', 'datetime': datetime.datetime(2012, 3, 20, 13, 49, 1), 'md5': 'f9296780a29dc1110423a00b9730fdeb', 'filename': 'sta008.cnv', 'nquan': '26', 'sbe_model': '9', 'start_time': 'Mar 20 2012 13:49:01 [System UTC, first data scan.]', 'instrument_type': 'CTD', 'nvalues': '87', 'LATITUDE': 25.198666666666668, 'bad_flag': '-9.990e-29'}\n",
      "{'gps_datetime': 'Mar 20 2012 17:01:45', 'LONGITUDE': -112.36716666666666, 'file_type': 'ascii', 'seasave': 'V 7.21b', 'datetime': datetime.datetime(2012, 3, 20, 17, 1, 46), 'md5': 'c270567e38d4d2e1be5edb12c4221982', 'filename': 'sta009.cnv', 'nquan': '26', 'sbe_model': '9', 'start_time': 'Mar 20 2012 17:01:46 [System UTC, first data scan.]', 'instrument_type': 'CTD', 'nvalues': '102', 'LATITUDE': 24.749333333333333, 'bad_flag': '-9.990e-29'}\n",
      "{'gps_datetime': 'Mar 20 2012 19:02:27', 'LONGITUDE': -112.36633333333333, 'file_type': 'ascii', 'seasave': 'V 7.21b', 'datetime': datetime.datetime(2012, 3, 20, 19, 2, 28), 'md5': 'cf3e32dbbd16547546bc1aa04d2562c0', 'filename': 'sta010.cnv', 'nquan': '26', 'sbe_model': '9', 'start_time': 'Mar 20 2012 19:02:28 [System UTC, first data scan.]', 'instrument_type': 'CTD', 'nvalues': '315', 'LATITUDE': 24.499666666666666, 'bad_flag': '-9.990e-29'}\n",
      "{'gps_datetime': 'Mar 20 2012 20:55:48', 'LONGITUDE': -112.3665, 'file_type': 'ascii', 'seasave': 'V 7.21b', 'datetime': datetime.datetime(2012, 3, 20, 20, 55, 50), 'md5': '494e6a085b0ff87c85553b04439d8866', 'filename': 'sta011.cnv', 'nquan': '26', 'sbe_model': '9', 'start_time': 'Mar 20 2012 20:55:50 [System UTC, first data scan.]', 'instrument_type': 'CTD', 'nvalues': '613', 'LATITUDE': 24.299666666666667, 'bad_flag': '-9.990e-29'}\n",
      "{'gps_datetime': 'Mar 20 2012 23:06:45', 'LONGITUDE': -112.36683333333333, 'file_type': 'ascii', 'seasave': 'V 7.21b', 'datetime': datetime.datetime(2012, 3, 20, 23, 6, 47), 'md5': '7aa7988260da67146071837ce457304b', 'filename': 'sta012.cnv', 'nquan': '26', 'sbe_model': '9', 'start_time': 'Mar 20 2012 23:06:47 [System UTC, first data scan.]', 'instrument_type': 'CTD', 'nvalues': '699', 'LATITUDE': 24.10033333333333, 'bad_flag': '-9.990e-29'}\n",
      "{'gps_datetime': 'Mar 21 2012 01:26:04', 'LONGITUDE': -112.36633333333333, 'file_type': 'ascii', 'seasave': 'V 7.21b', 'datetime': datetime.datetime(2012, 3, 21, 1, 26, 6), 'md5': '3ac082507739f759166ef4f7c4962cb9', 'filename': 'sta013.cnv', 'nquan': '26', 'sbe_model': '9', 'start_time': 'Mar 21 2012 01:26:06 [System UTC, first data scan.]', 'instrument_type': 'CTD', 'nvalues': '989', 'LATITUDE': 23.899166666666666, 'bad_flag': '-9.990e-29'}\n",
      "{'gps_datetime': 'Mar 21 2012 12:20:42', 'LONGITUDE': -111.94133333333333, 'file_type': 'ascii', 'seasave': 'V 7.21b', 'datetime': datetime.datetime(2012, 3, 21, 12, 20, 43), 'md5': 'ba48c920ae2411963771890f3d4153a9', 'filename': 'sta014.cnv', 'nquan': '26', 'sbe_model': '9', 'start_time': 'Mar 21 2012 12:20:43 [System UTC, first data scan.]', 'instrument_type': 'CTD', 'nvalues': '397', 'LATITUDE': 23.845833333333335, 'bad_flag': '-9.990e-29'}\n",
      "{'gps_datetime': 'Mar 21 2012 15:03:24', 'LONGITUDE': -111.51683333333334, 'file_type': 'ascii', 'seasave': 'V 7.21b', 'datetime': datetime.datetime(2012, 3, 21, 15, 3, 26), 'md5': '1bcfd43dd06848641fa139c5a4e22979', 'filename': 'sta015.cnv', 'nquan': '26', 'sbe_model': '9', 'start_time': 'Mar 21 2012 15:03:26 [System UTC, first data scan.]', 'instrument_type': 'CTD', 'nvalues': '447', 'LATITUDE': 23.791833333333333, 'bad_flag': '-9.990e-29'}\n",
      "{'gps_datetime': 'Mar 21 2012 17:33:51', 'LONGITUDE': -111.091, 'file_type': 'ascii', 'seasave': 'V 7.21b', 'datetime': datetime.datetime(2012, 3, 21, 17, 33, 53), 'md5': '9004d8a10a4dd84a65f1adc5f0d45023', 'filename': 'sta016.cnv', 'nquan': '26', 'sbe_model': '9', 'start_time': 'Mar 21 2012 17:33:53 [System UTC, first data scan.]', 'instrument_type': 'CTD', 'nvalues': '432', 'LATITUDE': 23.737333333333332, 'bad_flag': '-9.990e-29'}\n",
      "{'gps_datetime': 'Mar 21 2012 20:01:29', 'LONGITUDE': -110.66666666666667, 'file_type': 'ascii', 'seasave': 'V 7.21b', 'datetime': datetime.datetime(2012, 3, 21, 20, 1, 30), 'md5': 'ef579d9d596b1fd3bdb682e3f385da73', 'filename': 'sta017.cnv', 'nquan': '26', 'sbe_model': '9', 'start_time': 'Mar 21 2012 20:01:30 [System UTC, first data scan.]', 'instrument_type': 'CTD', 'nvalues': '49', 'LATITUDE': 23.682833333333335, 'bad_flag': '-9.990e-29'}\n",
      "{'gps_datetime': 'Mar 22 2012 11:25:27', 'LONGITUDE': -110.382, 'file_type': 'ascii', 'seasave': 'V 7.21b', 'datetime': datetime.datetime(2012, 3, 22, 11, 25, 29), 'md5': '5d441ce1c9496a5aff9001cff9fb2c16', 'filename': 'sta019.cnv', 'nquan': '26', 'sbe_model': '9', 'start_time': 'Mar 22 2012 11:25:29 [System UTC, first data scan.]', 'instrument_type': 'CTD', 'nvalues': '998', 'LATITUDE': 22.95, 'bad_flag': '-9.990e-29'}\n",
      "{'gps_datetime': 'Mar 22 2012 22:56:15', 'LONGITUDE': -109.91716666666667, 'file_type': 'ascii', 'seasave': 'V 7.21b', 'datetime': datetime.datetime(2012, 3, 22, 22, 56, 16), 'md5': '4c4ecfa901951ba5fc3e4875d8e7085d', 'filename': 'sta020.cnv', 'nquan': '26', 'sbe_model': '9', 'start_time': 'Mar 22 2012 22:56:16 [System UTC, first data scan.]', 'instrument_type': 'CTD', 'nvalues': '173', 'LATITUDE': 22.857833333333332, 'bad_flag': '-9.990e-29'}\n",
      "{'gps_datetime': 'Mar 23 2012 00:15:31', 'LONGITUDE': -109.91766666666666, 'file_type': 'ascii', 'seasave': 'V 7.21b', 'datetime': datetime.datetime(2012, 3, 23, 0, 15, 32), 'md5': '2b3057fd32aa1655c8ddd6aeafbfbd88', 'filename': 'sta021.cnv', 'nquan': '26', 'sbe_model': '9', 'start_time': 'Mar 23 2012 00:15:32 [System UTC, first data scan.]', 'instrument_type': 'CTD', 'nvalues': '988', 'LATITUDE': 22.750666666666667, 'bad_flag': '-9.990e-29'}\n",
      "{'gps_datetime': 'Mar 23 2012 03:51:44', 'LONGITUDE': -109.629, 'file_type': 'ascii', 'seasave': 'V 7.21b', 'datetime': datetime.datetime(2012, 3, 23, 3, 51, 45), 'md5': '120bbbada6932d30a8e4bb78eb0fdbde', 'filename': 'sta022.cnv', 'nquan': '26', 'sbe_model': '9', 'start_time': 'Mar 23 2012 03:51:45 [System UTC, first data scan.]', 'instrument_type': 'CTD', 'nvalues': '989', 'LATITUDE': 22.607833333333332, 'bad_flag': '-9.990e-29'}\n",
      "{'gps_datetime': 'Mar 23 2012 06:02:04', 'LONGITUDE': -109.40766666666667, 'file_type': 'ascii', 'seasave': 'V 7.21b', 'datetime': datetime.datetime(2012, 3, 23, 6, 2, 6), 'md5': '585e82bcb20dfe293f4859fd9a7b7360', 'filename': 'sta023.cnv', 'nquan': '26', 'sbe_model': '9', 'start_time': 'Mar 23 2012 06:02:06 [System UTC, first data scan.]', 'instrument_type': 'CTD', 'nvalues': '989', 'LATITUDE': 22.466833333333334, 'bad_flag': '-9.990e-29'}\n",
      "{'gps_datetime': 'Mar 23 2012 08:27:53', 'LONGITUDE': -109.15383333333334, 'file_type': 'ascii', 'seasave': 'V 7.21b', 'datetime': datetime.datetime(2012, 3, 23, 8, 27, 55), 'md5': '476fb1885944abb74a746c05ce916e7d', 'filename': 'sta024.cnv', 'nquan': '26', 'sbe_model': '9', 'start_time': 'Mar 23 2012 08:27:55 [System UTC, first data scan.]', 'instrument_type': 'CTD', 'nvalues': '998', 'LATITUDE': 22.3245, 'bad_flag': '-9.990e-29'}\n",
      "{'gps_datetime': 'Mar 23 2012 10:49:48', 'LONGITUDE': -108.90016666666666, 'file_type': 'ascii', 'seasave': 'V 7.21b', 'datetime': datetime.datetime(2012, 3, 23, 10, 49, 50), 'md5': 'e6a1f5d08e9f60a63131444ab3a810fc', 'filename': 'sta025.cnv', 'nquan': '26', 'sbe_model': '9', 'start_time': 'Mar 23 2012 10:49:50 [System UTC, first data scan.]', 'instrument_type': 'CTD', 'nvalues': '1997', 'LATITUDE': 22.183666666666667, 'bad_flag': '-9.990e-29'}\n",
      "{'gps_datetime': 'Mar 23 2012 13:47:41', 'LONGITUDE': -108.64383333333333, 'file_type': 'ascii', 'seasave': 'V 7.21b', 'datetime': datetime.datetime(2012, 3, 23, 13, 47, 43), 'md5': '2fd6f2a2ad3e07b82fe1e58d86b03f62', 'filename': 'sta026.cnv', 'nquan': '26', 'sbe_model': '9', 'start_time': 'Mar 23 2012 13:47:43 [System UTC, first data scan.]', 'instrument_type': 'CTD', 'nvalues': '998', 'LATITUDE': 22.042, 'bad_flag': '-9.990e-29'}\n",
      "{'gps_datetime': 'Mar 24 2012 07:04:18', 'LONGITUDE': -108.3915, 'file_type': 'ascii', 'seasave': 'V 7.21b', 'datetime': datetime.datetime(2012, 3, 24, 7, 4, 20), 'md5': 'bbecced5ca7885375fbd34557f1c369d', 'filename': 'sta027.cnv', 'nquan': '26', 'sbe_model': '9', 'start_time': 'Mar 24 2012 07:04:20 [System UTC, first data scan.]', 'instrument_type': 'CTD', 'nvalues': '999', 'LATITUDE': 21.900333333333332, 'bad_flag': '-9.990e-29'}\n",
      "{'gps_datetime': 'Mar 24 2012 09:38:02', 'LONGITUDE': -108.13833333333334, 'file_type': 'ascii', 'seasave': 'V 7.21b', 'datetime': datetime.datetime(2012, 3, 24, 9, 38, 4), 'md5': '2aae46a00cd57605478ddba9d87894b9', 'filename': 'sta028.cnv', 'nquan': '26', 'sbe_model': '9', 'start_time': 'Mar 24 2012 09:38:04 [System UTC, first data scan.]', 'instrument_type': 'CTD', 'nvalues': '998', 'LATITUDE': 21.75733333333333, 'bad_flag': '-9.990e-29'}\n",
      "{'gps_datetime': 'Mar 24 2012 12:09:30', 'LONGITUDE': -107.88316666666667, 'file_type': 'ascii', 'seasave': 'V 7.21b', 'datetime': datetime.datetime(2012, 3, 24, 12, 9, 31), 'md5': 'ca7d31517271596bc713f0d1aef167ec', 'filename': 'sta029.cnv', 'nquan': '26', 'sbe_model': '9', 'start_time': 'Mar 24 2012 12:09:31 [System UTC, first data scan.]', 'instrument_type': 'CTD', 'nvalues': '1999', 'LATITUDE': 21.6165, 'bad_flag': '-9.990e-29'}\n",
      "{'gps_datetime': 'Mar 24 2012 15:02:23', 'LONGITUDE': -107.62883333333333, 'file_type': 'ascii', 'seasave': 'V 7.21b', 'datetime': datetime.datetime(2012, 3, 24, 15, 2, 25), 'md5': 'dcfa788c1308c8d585a513c790a1c32a', 'filename': 'sta030.cnv', 'nquan': '26', 'sbe_model': '9', 'start_time': 'Mar 24 2012 15:02:25 [System UTC, first data scan.]', 'instrument_type': 'CTD', 'nvalues': '1001', 'LATITUDE': 21.474333333333334, 'bad_flag': '-9.990e-29'}\n",
      "{'gps_datetime': 'Mar 24 2012 17:11:45', 'LONGITUDE': -107.37566666666666, 'file_type': 'ascii', 'seasave': 'V 7.21b', 'datetime': datetime.datetime(2012, 3, 24, 17, 11, 47), 'md5': '4adcb493ee6ad63e886fc53fbd71fb07', 'filename': 'sta031.cnv', 'nquan': '26', 'sbe_model': '9', 'start_time': 'Mar 24 2012 17:11:47 [System UTC, first data scan.]', 'instrument_type': 'CTD', 'nvalues': '998', 'LATITUDE': 21.332666666666668, 'bad_flag': '-9.990e-29'}\n",
      "{'gps_datetime': 'Mar 25 2012 01:48:01', 'LONGITUDE': -107.121, 'file_type': 'ascii', 'seasave': 'V 7.21b', 'datetime': datetime.datetime(2012, 3, 25, 1, 48, 3), 'md5': 'f30c2105bc100652f03e9af103cd7a73', 'filename': 'sta032.cnv', 'nquan': '26', 'sbe_model': '9', 'start_time': 'Mar 25 2012 01:48:03 [System UTC, first data scan.]', 'instrument_type': 'CTD', 'nvalues': '1989', 'LATITUDE': 21.191333333333333, 'bad_flag': '-9.990e-29'}\n",
      "{'gps_datetime': 'Mar 25 2012 05:11:00', 'LONGITUDE': -106.867, 'file_type': 'ascii', 'seasave': 'V 7.21b', 'datetime': datetime.datetime(2012, 3, 25, 5, 11, 1), 'md5': '8f49ae47b16e32bed6b3fe8d5eeb953a', 'filename': 'sta033.cnv', 'nquan': '26', 'sbe_model': '9', 'start_time': 'Mar 25 2012 05:11:01 [System UTC, first data scan.]', 'instrument_type': 'CTD', 'nvalues': '988', 'LATITUDE': 21.049833333333332, 'bad_flag': '-9.990e-29'}\n",
      "{'gps_datetime': 'Mar 25 2012 07:49:42', 'LONGITUDE': -106.613, 'file_type': 'ascii', 'seasave': 'V 7.21b', 'datetime': datetime.datetime(2012, 3, 25, 7, 49, 44), 'md5': '912de12d223e11547a4efc9661bde881', 'filename': 'sta034.cnv', 'nquan': '26', 'sbe_model': '9', 'start_time': 'Mar 25 2012 07:49:44 [System UTC, first data scan.]', 'instrument_type': 'CTD', 'nvalues': '999', 'LATITUDE': 20.908166666666666, 'bad_flag': '-9.990e-29'}\n",
      "{'gps_datetime': 'Mar 25 2012 10:16:14', 'LONGITUDE': -106.357, 'file_type': 'ascii', 'seasave': 'V 7.21b', 'datetime': datetime.datetime(2012, 3, 25, 10, 16, 16), 'md5': '757a1d7b58a2a3e4803f8de8e653d7dd', 'filename': 'sta035.cnv', 'nquan': '26', 'sbe_model': '9', 'start_time': 'Mar 25 2012 10:16:16 [System UTC, first data scan.]', 'instrument_type': 'CTD', 'nvalues': '4284', 'LATITUDE': 20.766, 'bad_flag': '-9.990e-29'}\n",
      "{'gps_datetime': 'Mar 25 2012 14:45:22', 'LONGITUDE': -106.1045, 'file_type': 'ascii', 'seasave': 'V 7.21b', 'datetime': datetime.datetime(2012, 3, 25, 14, 45, 23), 'md5': '72640ba5b9d04b1f5fc65c8aa554fca3', 'filename': 'sta036.cnv', 'nquan': '26', 'sbe_model': '9', 'start_time': 'Mar 25 2012 14:45:23 [System UTC, first data scan.]', 'instrument_type': 'CTD', 'nvalues': '998', 'LATITUDE': 20.624666666666666, 'bad_flag': '-9.990e-29'}\n",
      "{'gps_datetime': 'Mar 25 2012 17:01:23', 'LONGITUDE': -105.85016666666667, 'file_type': 'ascii', 'seasave': 'V 7.21b', 'datetime': datetime.datetime(2012, 3, 25, 17, 1, 25), 'md5': 'd88edeb73e35ba1a135fe9c86908e7c7', 'filename': 'sta037.cnv', 'nquan': '26', 'sbe_model': '9', 'start_time': 'Mar 25 2012 17:01:25 [System UTC, first data scan.]', 'instrument_type': 'CTD', 'nvalues': '999', 'LATITUDE': 20.482833333333332, 'bad_flag': '-9.990e-29'}\n",
      "{'gps_datetime': 'Mar 25 2012 18:41:32', 'LONGITUDE': -105.7495, 'file_type': 'ascii', 'seasave': 'V 7.21b', 'datetime': datetime.datetime(2012, 3, 25, 18, 41, 34), 'md5': '88c587a3a3c89d0b828c01a0f85b5343', 'filename': 'sta038.cnv', 'nquan': '26', 'sbe_model': '9', 'start_time': 'Mar 25 2012 18:41:34 [System UTC, first data scan.]', 'instrument_type': 'CTD', 'nvalues': '188', 'LATITUDE': 20.4175, 'bad_flag': '-9.990e-29'}\n",
      "{'gps_datetime': 'Mar 26 2012 05:56:30', 'LONGITUDE': -104.7865, 'file_type': 'ascii', 'seasave': 'V 7.21b', 'datetime': datetime.datetime(2012, 3, 26, 5, 56, 31), 'md5': 'a8e42dfeec24a68c17485170010dd7af', 'filename': 'sta040.cnv', 'nquan': '26', 'sbe_model': '9', 'start_time': 'Mar 26 2012 05:56:31 [System UTC, first data scan.]', 'instrument_type': 'CTD', 'nvalues': '2588', 'LATITUDE': 18.472833333333334, 'bad_flag': '-9.990e-29'}\n",
      "{'gps_datetime': 'Mar 26 2012 09:01:57', 'LONGITUDE': -104.65533333333333, 'file_type': 'ascii', 'seasave': 'V 7.21b', 'datetime': datetime.datetime(2012, 3, 26, 9, 1, 59), 'md5': '646fc2a4cfde1f785e0ac84df2e9e067', 'filename': 'sta041.cnv', 'nquan': '26', 'sbe_model': '9', 'start_time': 'Mar 26 2012 09:01:59 [System UTC, first data scan.]', 'instrument_type': 'CTD', 'nvalues': '999', 'LATITUDE': 18.644, 'bad_flag': '-9.990e-29'}\n",
      "{'gps_datetime': 'Mar 26 2012 11:08:48', 'LONGITUDE': -104.54616666666666, 'file_type': 'ascii', 'seasave': 'V 7.21b', 'datetime': datetime.datetime(2012, 3, 26, 11, 8, 49), 'md5': '5c2ded834b10310b6fdaec2f25f8b65d', 'filename': 'sta042.cnv', 'nquan': '26', 'sbe_model': '9', 'start_time': 'Mar 26 2012 11:08:49 [System UTC, first data scan.]', 'instrument_type': 'CTD', 'nvalues': '998', 'LATITUDE': 18.8135, 'bad_flag': '-9.990e-29'}\n",
      "{'gps_datetime': 'Mar 26 2012 13:27:16', 'LONGITUDE': -104.45933333333333, 'file_type': 'ascii', 'seasave': 'V 7.21b', 'datetime': datetime.datetime(2012, 3, 26, 13, 27, 18), 'md5': '2b08a92bcbc9b03bc289fd3fcd0c3def', 'filename': 'sta043.cnv', 'nquan': '26', 'sbe_model': '9', 'start_time': 'Mar 26 2012 13:27:18 [System UTC, first data scan.]', 'instrument_type': 'CTD', 'nvalues': '500', 'LATITUDE': 18.917166666666667, 'bad_flag': '-9.990e-29'}\n",
      "{'gps_datetime': 'Mar 26 2012 14:42:21', 'LONGITUDE': -104.4335, 'file_type': 'ascii', 'seasave': 'V 7.21b', 'datetime': datetime.datetime(2012, 3, 26, 14, 42, 22), 'md5': '9a196f0f9d1f1e1ccab73213fa2fde45', 'filename': 'sta044.cnv', 'nquan': '26', 'sbe_model': '9', 'start_time': 'Mar 26 2012 14:42:22 [System UTC, first data scan.]', 'instrument_type': 'CTD', 'nvalues': '250', 'LATITUDE': 18.978666666666665, 'bad_flag': '-9.990e-29'}\n",
      "{'gps_datetime': 'Mar 21 2012 22:12:09', 'LONGITUDE': -110.65783333333333, 'file_type': 'ascii', 'seasave': 'V 7.21b', 'datetime': datetime.datetime(2012, 3, 21, 22, 12, 11), 'md5': 'ccb355830c9ba0d3f542c5c7093dfa2d', 'filename': 'sta101.cnv', 'nquan': '26', 'sbe_model': '9', 'start_time': 'Mar 21 2012 22:12:11 [System UTC, first data scan.]', 'instrument_type': 'CTD', 'nvalues': '38', 'LATITUDE': 23.482166666666668, 'bad_flag': '-9.990e-29'}\n",
      "{'gps_datetime': 'Mar 29 2012 05:04:58', 'LONGITUDE': -105.29483333333333, 'file_type': 'ascii', 'seasave': 'V 7.21b', 'datetime': datetime.datetime(2012, 3, 29, 5, 5), 'md5': 'eb2e1414b9baaea84c5e99c983cf515e', 'filename': 'sta101_leg2.cnv', 'nquan': '26', 'sbe_model': '9', 'start_time': 'Mar 29 2012 05:05:00 [System UTC, first data scan.]', 'instrument_type': 'CTD', 'nvalues': '992', 'LATITUDE': 19.263666666666666, 'bad_flag': '-9.990e-29'}\n",
      "{'gps_datetime': 'Mar 29 2012 09:11:47', 'LONGITUDE': -105.5815, 'file_type': 'ascii', 'seasave': 'V 7.21b', 'datetime': datetime.datetime(2012, 3, 29, 9, 11, 49), 'md5': 'a911a8235c054f91e335053d3cd9d4fc', 'filename': 'sta102.cnv', 'nquan': '26', 'sbe_model': '9', 'start_time': 'Mar 29 2012 09:11:49 [System UTC, first data scan.]', 'instrument_type': 'CTD', 'nvalues': '961', 'LATITUDE': 19.649833333333333, 'bad_flag': '-9.990e-29'}\n",
      "{'gps_datetime': 'Mar 29 2012 12:33:27', 'LONGITUDE': -105.76416666666667, 'file_type': 'ascii', 'seasave': 'V 7.21b', 'datetime': datetime.datetime(2012, 3, 29, 12, 33, 28), 'md5': 'eebf5af18c4856fb428e9c7be93b7e79', 'filename': 'sta103.cnv', 'nquan': '26', 'sbe_model': '9', 'start_time': 'Mar 29 2012 12:33:28 [System UTC, first data scan.]', 'instrument_type': 'CTD', 'nvalues': '1188', 'LATITUDE': 19.8425, 'bad_flag': '-9.990e-29'}\n",
      "{'gps_datetime': 'Mar 29 2012 15:29:15', 'LONGITUDE': -105.81133333333334, 'file_type': 'ascii', 'seasave': 'V 7.21b', 'datetime': datetime.datetime(2012, 3, 29, 15, 29, 16), 'md5': '58994830778350b6367c227a55b7c479', 'filename': 'sta104.cnv', 'nquan': '26', 'sbe_model': '9', 'start_time': 'Mar 29 2012 15:29:16 [System UTC, first data scan.]', 'instrument_type': 'CTD', 'nvalues': '1190', 'LATITUDE': 20.058166666666665, 'bad_flag': '-9.990e-29'}\n",
      "{'gps_datetime': 'Mar 29 2012 20:20:56', 'LONGITUDE': -106.05466666666666, 'file_type': 'ascii', 'seasave': 'V 7.21b', 'datetime': datetime.datetime(2012, 3, 29, 20, 20, 58), 'md5': '922a365ab325df555b0fb82e63581c80', 'filename': 'sta105.cnv', 'nquan': '26', 'sbe_model': '9', 'start_time': 'Mar 29 2012 20:20:58 [System UTC, first data scan.]', 'instrument_type': 'CTD', 'nvalues': '489', 'LATITUDE': 20.657166666666665, 'bad_flag': '-9.990e-29'}\n",
      "{'gps_datetime': 'Mar 29 2012 23:56:53', 'LONGITUDE': -106.16666666666667, 'file_type': 'ascii', 'seasave': 'V 7.21b', 'datetime': datetime.datetime(2012, 3, 29, 23, 56, 54), 'md5': 'd8740070b2b453ca3e4f53be10e82772', 'filename': 'sta106.cnv', 'nquan': '26', 'sbe_model': '9', 'start_time': 'Mar 29 2012 23:56:54 [System UTC, first data scan.]', 'instrument_type': 'CTD', 'nvalues': '487', 'LATITUDE': 20.2415, 'bad_flag': '-9.990e-29'}\n",
      "{'gps_datetime': 'Mar 30 2012 02:59:22', 'LONGITUDE': -105.98316666666666, 'file_type': 'ascii', 'seasave': 'V 7.21b', 'datetime': datetime.datetime(2012, 3, 30, 2, 59, 23), 'md5': '2dba682941605d6fb654478f8abf0b79', 'filename': 'sta107.cnv', 'nquan': '26', 'sbe_model': '9', 'start_time': 'Mar 30 2012 02:59:23 [System UTC, first data scan.]', 'instrument_type': 'CTD', 'nvalues': '1487', 'LATITUDE': 20.160333333333334, 'bad_flag': '-9.990e-29'}\n",
      "{'gps_datetime': 'Mar 30 2012 12:20:05', 'LONGITUDE': -106.03233333333333, 'file_type': 'ascii', 'seasave': 'V 7.21b', 'datetime': datetime.datetime(2012, 3, 30, 12, 20, 6), 'md5': 'e8ab1f2f545d10dacb266575b2a8165a', 'filename': 'sta107_03.cnv', 'nquan': '26', 'sbe_model': '9', 'start_time': 'Mar 30 2012 12:20:06 [System UTC, first data scan.]', 'instrument_type': 'CTD', 'nvalues': '87', 'LATITUDE': 20.1455, 'bad_flag': '-9.990e-29'}\n",
      "{'gps_datetime': 'Mar 30 2012 20:26:49', 'LONGITUDE': -105.9855, 'file_type': 'ascii', 'seasave': 'V 7.21b', 'datetime': datetime.datetime(2012, 3, 30, 20, 26, 50), 'md5': '4888fc81ef14773e0a127d43e3ae5756', 'filename': 'sta109.cnv', 'nquan': '26', 'sbe_model': '9', 'start_time': 'Mar 30 2012 20:26:50 [System UTC, first data scan.]', 'instrument_type': 'CTD', 'nvalues': '88', 'LATITUDE': 20.141833333333334, 'bad_flag': '-9.990e-29'}\n",
      "{'gps_datetime': 'Mar 30 2012 21:34:53', 'LONGITUDE': -105.98633333333333, 'file_type': 'ascii', 'seasave': 'V 7.21b', 'datetime': datetime.datetime(2012, 3, 30, 21, 34, 55), 'md5': '53b3cefe379f3045d5755f02a0fb4b28', 'filename': 'sta110.cnv', 'nquan': '26', 'sbe_model': '9', 'start_time': 'Mar 30 2012 21:34:55 [System UTC, first data scan.]', 'instrument_type': 'CTD', 'nvalues': '1089', 'LATITUDE': 20.141333333333332, 'bad_flag': '-9.990e-29'}\n",
      "{'gps_datetime': 'Mar 31 2012 12:11:20', 'LONGITUDE': -105.98633333333333, 'file_type': 'ascii', 'seasave': 'V 7.21b', 'datetime': datetime.datetime(2012, 3, 31, 12, 11, 22), 'md5': '0925c62c985a33d6c6c05371d29cfe01', 'filename': 'sta111.cnv', 'nquan': '26', 'sbe_model': '9', 'start_time': 'Mar 31 2012 12:11:22 [System UTC, first data scan.]', 'instrument_type': 'CTD', 'nvalues': '87', 'LATITUDE': 20.1415, 'bad_flag': '-9.990e-29'}\n",
      "{'gps_datetime': 'Mar 31 2012 17:14:12', 'LONGITUDE': -105.99433333333333, 'file_type': 'ascii', 'seasave': 'V 7.21b', 'datetime': datetime.datetime(2012, 3, 31, 17, 14, 14), 'md5': '6c25d5ac916afca177ae14778845ae25', 'filename': 'sta112.cnv', 'nquan': '26', 'sbe_model': '9', 'start_time': 'Mar 31 2012 17:14:14 [System UTC, first data scan.]', 'instrument_type': 'CTD', 'nvalues': '1489', 'LATITUDE': 20.138666666666666, 'bad_flag': '-9.990e-29'}\n",
      "{'gps_datetime': 'Mar 31 2012 19:41:34', 'LONGITUDE': -106.014, 'file_type': 'ascii', 'seasave': 'V 7.21b', 'datetime': datetime.datetime(2012, 3, 31, 19, 41, 35), 'md5': '53bfe7365b59bec779a0174142933d85', 'filename': 'sta113.cnv', 'nquan': '26', 'sbe_model': '9', 'start_time': 'Mar 31 2012 19:41:35 [System UTC, first data scan.]', 'instrument_type': 'CTD', 'nvalues': '989', 'LATITUDE': 20.125666666666667, 'bad_flag': '-9.990e-29'}\n",
      "{'gps_datetime': 'Mar 31 2012 22:30:07', 'LONGITUDE': -106.014, 'file_type': 'ascii', 'seasave': 'V 7.21b', 'datetime': datetime.datetime(2012, 3, 31, 22, 30, 8), 'md5': '663a06e1c3430d1c7361eb016def5238', 'filename': 'sta114.cnv', 'nquan': '26', 'sbe_model': '9', 'start_time': 'Mar 31 2012 22:30:08 [System UTC, first data scan.]', 'instrument_type': 'CTD', 'nvalues': '488', 'LATITUDE': 20.125666666666667, 'bad_flag': '-9.990e-29'}\n",
      "{'gps_datetime': 'Apr 01 2012 01:17:52', 'LONGITUDE': -106.014, 'file_type': 'ascii', 'seasave': 'V 7.21b', 'datetime': datetime.datetime(2012, 4, 1, 1, 17, 54), 'md5': '5f44bdb0e085ed5bb9ee7cb5a1506327', 'filename': 'sta115.cnv', 'nquan': '26', 'sbe_model': '9', 'start_time': 'Apr 01 2012 01:17:54 [System UTC, first data scan.]', 'instrument_type': 'CTD', 'nvalues': '244', 'LATITUDE': 20.125666666666667, 'bad_flag': '-9.990e-29'}\n",
      "{'gps_datetime': 'Apr 01 2012 15:39:42', 'LONGITUDE': -106.07516666666666, 'file_type': 'ascii', 'seasave': 'V 7.21b', 'datetime': datetime.datetime(2012, 4, 1, 15, 39, 44), 'md5': 'a298ce72e8fa0a127323dac8bbdfde9a', 'filename': 'sta116.cnv', 'nquan': '26', 'sbe_model': '9', 'start_time': 'Apr 01 2012 15:39:44 [System UTC, first data scan.]', 'instrument_type': 'CTD', 'nvalues': '189', 'LATITUDE': 20.129, 'bad_flag': '-9.990e-29'}\n",
      "{'gps_datetime': 'Apr 01 2012 19:08:44', 'LONGITUDE': -105.99616666666667, 'file_type': 'ascii', 'seasave': 'V 7.21b', 'datetime': datetime.datetime(2012, 4, 1, 19, 8, 46), 'md5': '461b9cd757b3d3cac26538a5460e3dee', 'filename': 'sta117.cnv', 'nquan': '26', 'sbe_model': '9', 'start_time': 'Apr 01 2012 19:08:46 [System UTC, first data scan.]', 'instrument_type': 'CTD', 'nvalues': '589', 'LATITUDE': 20.145333333333333, 'bad_flag': '-9.990e-29'}\n",
      "{'gps_datetime': 'Apr 01 2012 21:31:21', 'LONGITUDE': -105.99616666666667, 'file_type': 'ascii', 'seasave': 'V 7.21b', 'datetime': datetime.datetime(2012, 4, 1, 21, 31, 23), 'md5': '512dc8116f229c44e2936319dbdb4411', 'filename': 'sta118.cnv', 'nquan': '26', 'sbe_model': '9', 'start_time': 'Apr 01 2012 21:31:23 [System UTC, first data scan.]', 'instrument_type': 'CTD', 'nvalues': '491', 'LATITUDE': 20.145333333333333, 'bad_flag': '-9.990e-29'}\n",
      "{'gps_datetime': 'Apr 01 2012 23:29:04', 'LONGITUDE': -105.99616666666667, 'file_type': 'ascii', 'seasave': 'V 7.21b', 'datetime': datetime.datetime(2012, 4, 1, 23, 29, 6), 'md5': '8682f770340a7883b71b5464f5dd6f18', 'filename': 'sta119.cnv', 'nquan': '26', 'sbe_model': '9', 'start_time': 'Apr 01 2012 23:29:06 [System UTC, first data scan.]', 'instrument_type': 'CTD', 'nvalues': '1991', 'LATITUDE': 20.145333333333333, 'bad_flag': '-9.990e-29'}\n",
      "{'gps_datetime': 'Apr 02 2012 12:09:46', 'LONGITUDE': -106.016, 'file_type': 'ascii', 'seasave': 'V 7.21b', 'datetime': datetime.datetime(2012, 4, 2, 12, 9, 48), 'md5': 'e9d19a40fd2123b221c1074b2f017703', 'filename': 'sta120.cnv', 'nquan': '26', 'sbe_model': '9', 'start_time': 'Apr 02 2012 12:09:48 [System UTC, first data scan.]', 'instrument_type': 'CTD', 'nvalues': '289', 'LATITUDE': 20.183833333333332, 'bad_flag': '-9.990e-29'}\n",
      "{'gps_datetime': 'Apr 02 2012 14:26:48', 'LONGITUDE': -106.02183333333333, 'file_type': 'ascii', 'seasave': 'V 7.21b', 'datetime': datetime.datetime(2012, 4, 2, 14, 26, 49), 'md5': '4499ddb61a3503189db07ecf67f40c15', 'filename': 'sta121.cnv', 'nquan': '26', 'sbe_model': '9', 'start_time': 'Apr 02 2012 14:26:49 [System UTC, first data scan.]', 'instrument_type': 'CTD', 'nvalues': '489', 'LATITUDE': 20.182833333333335, 'bad_flag': '-9.990e-29'}\n",
      "{'gps_datetime': 'Apr 02 2012 17:14:20', 'LONGITUDE': -106.0045, 'file_type': 'ascii', 'seasave': 'V 7.21b', 'datetime': datetime.datetime(2012, 4, 2, 17, 14, 22), 'md5': '713cef7c6c6618e380df9a7d274a58a9', 'filename': 'sta122.cnv', 'nquan': '26', 'sbe_model': '9', 'start_time': 'Apr 02 2012 17:14:22 [System UTC, first data scan.]', 'instrument_type': 'CTD', 'nvalues': '90', 'LATITUDE': 20.163166666666665, 'bad_flag': '-9.990e-29'}\n",
      "{'gps_datetime': 'Apr 02 2012 22:12:57', 'LONGITUDE': -106.00983333333333, 'file_type': 'ascii', 'seasave': 'V 7.21b', 'datetime': datetime.datetime(2012, 4, 2, 22, 12, 59), 'md5': '3da0d03e205ab33148d46a3238e9bd64', 'filename': 'sta123.cnv', 'nquan': '26', 'sbe_model': '9', 'start_time': 'Apr 02 2012 22:12:59 [System UTC, first data scan.]', 'instrument_type': 'CTD', 'nvalues': '1188', 'LATITUDE': 20.058333333333334, 'bad_flag': '-9.990e-29'}\n",
      "{'gps_datetime': 'Apr 03 2012 12:07:43', 'LONGITUDE': -106.01483333333333, 'file_type': 'ascii', 'seasave': 'V 7.21b', 'datetime': datetime.datetime(2012, 4, 3, 12, 7, 45), 'md5': '6a4519fb93feb0dfeef4670c5e03e2a1', 'filename': 'sta124.cnv', 'nquan': '26', 'sbe_model': '9', 'start_time': 'Apr 03 2012 12:07:45 [System UTC, first data scan.]', 'instrument_type': 'CTD', 'nvalues': '187', 'LATITUDE': 20.05216666666667, 'bad_flag': '-9.990e-29'}\n",
      "{'gps_datetime': 'Apr 03 2012 16:58:08', 'LONGITUDE': -106.0135, 'file_type': 'ascii', 'seasave': 'V 7.21b', 'datetime': datetime.datetime(2012, 4, 3, 16, 58, 10), 'md5': '3541c51d48e21cf8084a941093c67eab', 'filename': 'sta125.cnv', 'nquan': '26', 'sbe_model': '9', 'start_time': 'Apr 03 2012 16:58:10 [System UTC, first data scan.]', 'instrument_type': 'CTD', 'nvalues': '540', 'LATITUDE': 20.071, 'bad_flag': '-9.990e-29'}\n",
      "{'gps_datetime': 'Apr 03 2012 21:14:46', 'LONGITUDE': -106.0135, 'file_type': 'ascii', 'seasave': 'V 7.21b', 'datetime': datetime.datetime(2012, 4, 3, 21, 14, 47), 'md5': '943481fe41fbe4150f5d4b5ed14f3e53', 'filename': 'sta126.cnv', 'nquan': '26', 'sbe_model': '9', 'start_time': 'Apr 03 2012 21:14:47 [System UTC, first data scan.]', 'instrument_type': 'CTD', 'nvalues': '689', 'LATITUDE': 20.071, 'bad_flag': '-9.990e-29'}\n",
      "{'gps_datetime': 'Apr 03 2012 23:42:15', 'LONGITUDE': -106.0135, 'file_type': 'ascii', 'seasave': 'V 7.21b', 'datetime': datetime.datetime(2012, 4, 3, 23, 42, 17), 'md5': '5806fc55a900e2189e378092b4e85124', 'filename': 'sta127.cnv', 'nquan': '26', 'sbe_model': '9', 'start_time': 'Apr 03 2012 23:42:17 [System UTC, first data scan.]', 'instrument_type': 'CTD', 'nvalues': '189', 'LATITUDE': 20.071, 'bad_flag': '-9.990e-29'}\n",
      "{'gps_datetime': 'Apr 05 2012 05:27:46', 'LONGITUDE': -104.51483333333333, 'file_type': 'ascii', 'seasave': 'V 7.21b', 'datetime': datetime.datetime(2012, 4, 5, 5, 27, 48), 'md5': 'e04ed310cf746b065af3faeb33dcdc71', 'filename': 'sta128.cnv', 'nquan': '26', 'sbe_model': '9', 'start_time': 'Apr 05 2012 05:27:48 [System UTC, first data scan.]', 'instrument_type': 'CTD', 'nvalues': '1490', 'LATITUDE': 18.549666666666667, 'bad_flag': '-9.990e-29'}\n",
      "{'gps_datetime': 'Apr 05 2012 12:32:21', 'LONGITUDE': -103.66466666666666, 'file_type': 'ascii', 'seasave': 'V 7.21b', 'datetime': datetime.datetime(2012, 4, 5, 12, 32, 23), 'md5': 'c71c549a7ec58a2a8251aee92e9c8dac', 'filename': 'sta129.cnv', 'nquan': '26', 'sbe_model': '9', 'start_time': 'Apr 05 2012 12:32:23 [System UTC, first data scan.]', 'instrument_type': 'CTD', 'nvalues': '1488', 'LATITUDE': 17.919833333333333, 'bad_flag': '-9.990e-29'}\n",
      "{'gps_datetime': 'Apr 05 2012 17:40:28', 'LONGITUDE': -103.099, 'file_type': 'ascii', 'seasave': 'V 7.21b', 'datetime': datetime.datetime(2012, 4, 5, 17, 40, 30), 'md5': 'cf8bf39f3c44e7e9f06348d48ad98d78', 'filename': 'sta130.cnv', 'nquan': '26', 'sbe_model': '9', 'start_time': 'Apr 05 2012 17:40:30 [System UTC, first data scan.]', 'instrument_type': 'CTD', 'nvalues': '1499', 'LATITUDE': 17.699666666666666, 'bad_flag': '-9.990e-29'}\n",
      "{'gps_datetime': 'Apr 05 2012 22:55:55', 'LONGITUDE': -102.61533333333334, 'file_type': 'ascii', 'seasave': 'V 7.21b', 'datetime': datetime.datetime(2012, 4, 5, 22, 55, 57), 'md5': 'fae68339160a920f352a96887c3aa25e', 'filename': 'sta131.cnv', 'nquan': '26', 'sbe_model': '9', 'start_time': 'Apr 05 2012 22:55:57 [System UTC, first data scan.]', 'instrument_type': 'CTD', 'nvalues': '1488', 'LATITUDE': 17.483666666666668, 'bad_flag': '-9.990e-29'}\n",
      "{'gps_datetime': 'Apr 07 2012 22:27:27', 'LONGITUDE': -104.05933333333333, 'file_type': 'ascii', 'seasave': 'V 7.21b', 'datetime': datetime.datetime(2012, 4, 7, 22, 27, 28), 'md5': 'e25c3738f0586a2ae81ac2c8b1250cde', 'filename': 'sta132.cnv', 'nquan': '26', 'sbe_model': '9', 'start_time': 'Apr 07 2012 22:27:28 [System UTC, first data scan.]', 'instrument_type': 'CTD', 'nvalues': '489', 'LATITUDE': 18.789666666666665, 'bad_flag': '-9.990e-29'}\n",
      "{'gps_datetime': 'Apr 08 2012 05:44:51', 'LONGITUDE': -104.9895, 'file_type': 'ascii', 'seasave': 'V 7.21b', 'datetime': datetime.datetime(2012, 4, 8, 5, 44, 53), 'md5': '389329f71a77f411661fc1cd7e9e4c8d', 'filename': 'sta133.cnv', 'nquan': '26', 'sbe_model': '9', 'start_time': 'Apr 08 2012 05:44:53 [System UTC, first data scan.]', 'instrument_type': 'CTD', 'nvalues': '1490', 'LATITUDE': 18.389, 'bad_flag': '-9.990e-29'}\n",
      "{'gps_datetime': 'Apr 08 2012 10:19:32', 'LONGITUDE': -105.41866666666667, 'file_type': 'ascii', 'seasave': 'V 7.21b', 'datetime': datetime.datetime(2012, 4, 8, 10, 19, 33), 'md5': '1b4fbab219cb31e7aff2bfba58e5132c', 'filename': 'sta134.cnv', 'nquan': '26', 'sbe_model': '9', 'start_time': 'Apr 08 2012 10:19:33 [System UTC, first data scan.]', 'instrument_type': 'CTD', 'nvalues': '1489', 'LATITUDE': 18.049166666666668, 'bad_flag': '-9.990e-29'}\n",
      "{'gps_datetime': 'Apr 08 2012 15:37:11', 'LONGITUDE': -105.96, 'file_type': 'ascii', 'seasave': 'V 7.21b', 'datetime': datetime.datetime(2012, 4, 8, 15, 37, 13), 'md5': 'f48bab2ea9fd72a00e9d282251d60b34', 'filename': 'sta135.cnv', 'nquan': '26', 'sbe_model': '9', 'start_time': 'Apr 08 2012 15:37:13 [System UTC, first data scan.]', 'instrument_type': 'CTD', 'nvalues': '1490', 'LATITUDE': 17.5455, 'bad_flag': '-9.990e-29'}\n",
      "{'gps_datetime': 'Apr 08 2012 22:08:15', 'LONGITUDE': -106.53266666666667, 'file_type': 'ascii', 'seasave': 'V 7.21b', 'datetime': datetime.datetime(2012, 4, 8, 22, 8, 16), 'md5': '5b0954d3d005c02a4cbc8b1b48926c8a', 'filename': 'sta136.cnv', 'nquan': '26', 'sbe_model': '9', 'start_time': 'Apr 08 2012 22:08:16 [System UTC, first data scan.]', 'instrument_type': 'CTD', 'nvalues': '1488', 'LATITUDE': 17.0325, 'bad_flag': '-9.990e-29'}\n",
      "{'gps_datetime': 'Apr 09 2012 04:03:50', 'LONGITUDE': -107.15966666666667, 'file_type': 'ascii', 'seasave': 'V 7.21b', 'datetime': datetime.datetime(2012, 4, 9, 4, 3, 52), 'md5': 'f121279f86f7198521fa845e2bc8d385', 'filename': 'sta137.cnv', 'nquan': '26', 'sbe_model': '9', 'start_time': 'Apr 09 2012 04:03:52 [System UTC, first data scan.]', 'instrument_type': 'CTD', 'nvalues': '489', 'LATITUDE': 16.4995, 'bad_flag': '-9.990e-29'}\n",
      "{'gps_datetime': 'Apr 09 2012 12:07:36', 'LONGITUDE': -107.15966666666667, 'file_type': 'ascii', 'seasave': 'V 7.21b', 'datetime': datetime.datetime(2012, 4, 9, 12, 7, 37), 'md5': '2eefa6123b9ba5d9e41b549e6b63e2f4', 'filename': 'sta138.cnv', 'nquan': '26', 'sbe_model': '9', 'start_time': 'Apr 09 2012 12:07:37 [System UTC, first data scan.]', 'instrument_type': 'CTD', 'nvalues': '188', 'LATITUDE': 16.4995, 'bad_flag': '-9.990e-29'}\n",
      "{'gps_datetime': 'Apr 09 2012 17:00:23', 'LONGITUDE': -107.142, 'file_type': 'ascii', 'seasave': 'V 7.21b', 'datetime': datetime.datetime(2012, 4, 9, 17, 0, 24), 'md5': '65abeafba099b187db32e6376b01822a', 'filename': 'sta139.cnv', 'nquan': '26', 'sbe_model': '9', 'start_time': 'Apr 09 2012 17:00:24 [System UTC, first data scan.]', 'instrument_type': 'CTD', 'nvalues': '489', 'LATITUDE': 16.516333333333332, 'bad_flag': '-9.990e-29'}\n",
      "{'gps_datetime': 'Apr 09 2012 19:23:16', 'LONGITUDE': -107.142, 'file_type': 'ascii', 'seasave': 'V 7.21b', 'datetime': datetime.datetime(2012, 4, 9, 19, 23, 18), 'md5': 'ac4b806aedd31122d07574a5e0f0f5a4', 'filename': 'sta140.cnv', 'nquan': '26', 'sbe_model': '9', 'start_time': 'Apr 09 2012 19:23:18 [System UTC, first data scan.]', 'instrument_type': 'CTD', 'nvalues': '489', 'LATITUDE': 16.516333333333332, 'bad_flag': '-9.990e-29'}\n",
      "{'gps_datetime': 'Apr 09 2012 21:07:14', 'LONGITUDE': -107.142, 'file_type': 'ascii', 'seasave': 'V 7.21b', 'datetime': datetime.datetime(2012, 4, 9, 21, 7, 15), 'md5': 'deceebceadc57d71a813ad2b285f413b', 'filename': 'sta141.cnv', 'nquan': '26', 'sbe_model': '9', 'start_time': 'Apr 09 2012 21:07:15 [System UTC, first data scan.]', 'instrument_type': 'CTD', 'nvalues': '2988', 'LATITUDE': 16.516333333333332, 'bad_flag': '-9.990e-29'}\n",
      "{'gps_datetime': 'Apr 10 2012 15:18:53', 'LONGITUDE': -107.14083333333333, 'file_type': 'ascii', 'seasave': 'V 7.21b', 'datetime': datetime.datetime(2012, 4, 10, 15, 18, 54), 'md5': '9a2ff5a56c878d8b808a5a44250322e6', 'filename': 'sta142.cnv', 'nquan': '26', 'sbe_model': '9', 'start_time': 'Apr 10 2012 15:18:54 [System UTC, first data scan.]', 'instrument_type': 'CTD', 'nvalues': '289', 'LATITUDE': 16.529833333333332, 'bad_flag': '-9.990e-29'}\n",
      "{'gps_datetime': 'Apr 10 2012 17:17:36', 'LONGITUDE': -107.14083333333333, 'file_type': 'ascii', 'seasave': 'V 7.21b', 'datetime': datetime.datetime(2012, 4, 10, 17, 17, 37), 'md5': '7a2742fb6eb751af50882a4a2cdb9a5e', 'filename': 'sta143.cnv', 'nquan': '26', 'sbe_model': '9', 'start_time': 'Apr 10 2012 17:17:37 [System UTC, first data scan.]', 'instrument_type': 'CTD', 'nvalues': '488', 'LATITUDE': 16.529833333333332, 'bad_flag': '-9.990e-29'}\n",
      "{'gps_datetime': 'Apr 10 2012 19:51:57', 'LONGITUDE': -107.14083333333333, 'file_type': 'ascii', 'seasave': 'V 7.21b', 'datetime': datetime.datetime(2012, 4, 10, 19, 51, 59), 'md5': 'cef44c96a41fc7844a37e62c43f1c727', 'filename': 'sta144.cnv', 'nquan': '26', 'sbe_model': '9', 'start_time': 'Apr 10 2012 19:51:59 [System UTC, first data scan.]', 'instrument_type': 'CTD', 'nvalues': '189', 'LATITUDE': 16.529666666666667, 'bad_flag': '-9.990e-29'}\n",
      "{'gps_datetime': 'Apr 10 2012 22:11:03', 'LONGITUDE': -107.14083333333333, 'file_type': 'ascii', 'seasave': 'V 7.21b', 'datetime': datetime.datetime(2012, 4, 10, 22, 11, 4), 'md5': '53692be9be23298733524b4e417feaff', 'filename': 'sta145.cnv', 'nquan': '26', 'sbe_model': '9', 'start_time': 'Apr 10 2012 22:11:04 [System UTC, first data scan.]', 'instrument_type': 'CTD', 'nvalues': '239', 'LATITUDE': 16.529666666666667, 'bad_flag': '-9.990e-29'}\n",
      "{'gps_datetime': 'Apr 11 2012 12:07:22', 'LONGITUDE': -107.141, 'file_type': 'ascii', 'seasave': 'V 7.21b', 'datetime': datetime.datetime(2012, 4, 11, 12, 7, 24), 'md5': 'f94cec998391449259e4133a2bf65072', 'filename': 'sta146.cnv', 'nquan': '26', 'sbe_model': '9', 'start_time': 'Apr 11 2012 12:07:24 [System UTC, first data scan.]', 'instrument_type': 'CTD', 'nvalues': '188', 'LATITUDE': 16.530166666666666, 'bad_flag': '-9.990e-29'}\n",
      "{'gps_datetime': 'Apr 11 2012 15:49:28', 'LONGITUDE': -107.11333333333333, 'file_type': 'ascii', 'seasave': 'V 7.21b', 'datetime': datetime.datetime(2012, 4, 11, 15, 49, 29), 'md5': '772477de9786b9dcbb7c138cfb1037b6', 'filename': 'sta147.cnv', 'nquan': '26', 'sbe_model': '9', 'start_time': 'Apr 11 2012 15:49:29 [System UTC, first data scan.]', 'instrument_type': 'CTD', 'nvalues': '539', 'LATITUDE': 16.526666666666667, 'bad_flag': '-9.990e-29'}\n",
      "{'gps_datetime': 'Apr 11 2012 19:05:15', 'LONGITUDE': -107.11333333333333, 'file_type': 'ascii', 'seasave': 'V 7.21b', 'datetime': datetime.datetime(2012, 4, 11, 19, 5, 16), 'md5': '3ca9abd39e31c45ed64ef42817138fe4', 'filename': 'sta148.cnv', 'nquan': '26', 'sbe_model': '9', 'start_time': 'Apr 11 2012 19:05:16 [System UTC, first data scan.]', 'instrument_type': 'CTD', 'nvalues': '489', 'LATITUDE': 16.526666666666667, 'bad_flag': '-9.990e-29'}\n",
      "{'gps_datetime': 'Apr 11 2012 20:46:49', 'LONGITUDE': -107.11333333333333, 'file_type': 'ascii', 'seasave': 'V 7.21b', 'datetime': datetime.datetime(2012, 4, 11, 20, 46, 50), 'md5': '0e56d028bb860896961662237ca46e14', 'filename': 'sta149.cnv', 'nquan': '26', 'sbe_model': '9', 'start_time': 'Apr 11 2012 20:46:50 [System UTC, first data scan.]', 'instrument_type': 'CTD', 'nvalues': '1489', 'LATITUDE': 16.526666666666667, 'bad_flag': '-9.990e-29'}\n",
      "{'gps_datetime': 'Apr 12 2012 00:04:55', 'LONGITUDE': -107.11333333333333, 'file_type': 'ascii', 'seasave': 'V 7.21b', 'datetime': datetime.datetime(2012, 4, 12, 0, 4, 57), 'md5': '186e5e5927ad815a58d9f562d77827bb', 'filename': 'sta150.cnv', 'nquan': '26', 'sbe_model': '9', 'start_time': 'Apr 12 2012 00:04:57 [System UTC, first data scan.]', 'instrument_type': 'CTD', 'nvalues': '590', 'LATITUDE': 16.526666666666667, 'bad_flag': '-9.990e-29'}\n",
      "{'gps_datetime': 'Apr 12 2012 12:15:39', 'LONGITUDE': -107.11283333333333, 'file_type': 'ascii', 'seasave': 'V 7.21b', 'datetime': datetime.datetime(2012, 4, 12, 12, 15, 40), 'md5': 'd7eba951f8bb14a2dad5eab1b9546eac', 'filename': 'sta151.cnv', 'nquan': '26', 'sbe_model': '9', 'start_time': 'Apr 12 2012 12:15:40 [System UTC, first data scan.]', 'instrument_type': 'CTD', 'nvalues': '187', 'LATITUDE': 16.525666666666666, 'bad_flag': '-9.990e-29'}\n",
      "{'gps_datetime': 'Apr 12 2012 15:16:18', 'LONGITUDE': -107.14966666666666, 'file_type': 'ascii', 'seasave': 'V 7.21b', 'datetime': datetime.datetime(2012, 4, 12, 15, 16, 20), 'md5': '0c0578881eb24b571611a3294fc62dc7', 'filename': 'sta152.cnv', 'nquan': '26', 'sbe_model': '9', 'start_time': 'Apr 12 2012 15:16:20 [System UTC, first data scan.]', 'instrument_type': 'CTD', 'nvalues': '490', 'LATITUDE': 16.589, 'bad_flag': '-9.990e-29'}\n",
      "{'gps_datetime': 'Apr 12 2012 17:23:53', 'LONGITUDE': -107.14966666666666, 'file_type': 'ascii', 'seasave': 'V 7.21b', 'datetime': datetime.datetime(2012, 4, 12, 17, 23, 54), 'md5': '24cb0d98070386c5117e95375e469045', 'filename': 'sta153.cnv', 'nquan': '26', 'sbe_model': '9', 'start_time': 'Apr 12 2012 17:23:54 [System UTC, first data scan.]', 'instrument_type': 'CTD', 'nvalues': '90', 'LATITUDE': 16.589, 'bad_flag': '-9.990e-29'}\n",
      "{'gps_datetime': 'Apr 12 2012 18:08:39', 'LONGITUDE': -107.14966666666666, 'file_type': 'ascii', 'seasave': 'V 7.21b', 'datetime': datetime.datetime(2012, 4, 12, 18, 8, 41), 'md5': '36b789ba5e5baaa9035ec299ea7a6569', 'filename': 'sta154.cnv', 'nquan': '26', 'sbe_model': '9', 'start_time': 'Apr 12 2012 18:08:41 [System UTC, first data scan.]', 'instrument_type': 'CTD', 'nvalues': '139', 'LATITUDE': 16.589, 'bad_flag': '-9.990e-29'}\n",
      "{'gps_datetime': 'Apr 13 2012 00:06:09', 'LONGITUDE': -107.14966666666666, 'file_type': 'ascii', 'seasave': 'V 7.21b', 'datetime': datetime.datetime(2012, 4, 13, 0, 6, 11), 'md5': '7571e4295203a921eebb24b660e940b1', 'filename': 'sta155.cnv', 'nquan': '26', 'sbe_model': '9', 'start_time': 'Apr 13 2012 00:06:11 [System UTC, first data scan.]', 'instrument_type': 'CTD', 'nvalues': '138', 'LATITUDE': 16.589, 'bad_flag': '-9.990e-29'}\n",
      "{'gps_datetime': 'Apr 13 2012 15:33:03', 'LONGITUDE': -107.07683333333334, 'file_type': 'ascii', 'seasave': 'V 7.21b', 'datetime': datetime.datetime(2012, 4, 13, 15, 33, 5), 'md5': '5c70d28f353cb00f6712b0ab1f33ae0e', 'filename': 'sta156.cnv', 'nquan': '26', 'sbe_model': '9', 'start_time': 'Apr 13 2012 15:33:05 [System UTC, first data scan.]', 'instrument_type': 'CTD', 'nvalues': '589', 'LATITUDE': 16.577666666666666, 'bad_flag': '-9.990e-29'}\n",
      "{'gps_datetime': 'Apr 13 2012 18:24:40', 'LONGITUDE': -107.07683333333334, 'file_type': 'ascii', 'seasave': 'V 7.21b', 'datetime': datetime.datetime(2012, 4, 13, 18, 24, 41), 'md5': 'a1493c9753e67b2a36635cc7a17efcbb', 'filename': 'sta157.cnv', 'nquan': '26', 'sbe_model': '9', 'start_time': 'Apr 13 2012 18:24:41 [System UTC, first data scan.]', 'instrument_type': 'CTD', 'nvalues': '2990', 'LATITUDE': 16.577666666666666, 'bad_flag': '-9.990e-29'}\n",
      "{'gps_datetime': 'Apr 13 2012 22:11:43', 'LONGITUDE': -107.07683333333334, 'file_type': 'ascii', 'seasave': 'V 7.21b', 'datetime': datetime.datetime(2012, 4, 13, 22, 11, 44), 'md5': 'a6d2758c1dc446df412ffdfc93c7835c', 'filename': 'sta158.cnv', 'nquan': '26', 'sbe_model': '9', 'start_time': 'Apr 13 2012 22:11:44 [System UTC, first data scan.]', 'instrument_type': 'CTD', 'nvalues': '1190', 'LATITUDE': 16.577666666666666, 'bad_flag': '-9.990e-29'}\n",
      "{'gps_datetime': 'Apr 14 2012 12:10:43', 'LONGITUDE': -107.07266666666666, 'file_type': 'ascii', 'seasave': 'V 7.21b', 'datetime': datetime.datetime(2012, 4, 14, 12, 10, 45), 'md5': '4a7c2085422cd5dae4091ef54430fd8f', 'filename': 'sta159.cnv', 'nquan': '26', 'sbe_model': '9', 'start_time': 'Apr 14 2012 12:10:45 [System UTC, first data scan.]', 'instrument_type': 'CTD', 'nvalues': '139', 'LATITUDE': 16.575833333333332, 'bad_flag': '-9.990e-29'}\n",
      "{'gps_datetime': 'Apr 14 2012 15:58:13', 'LONGITUDE': -107.11583333333333, 'file_type': 'ascii', 'seasave': 'V 7.21b', 'datetime': datetime.datetime(2012, 4, 14, 15, 58, 15), 'md5': '1e9c4426f1e6a377d0da3fd62ed406bd', 'filename': 'sta160.cnv', 'nquan': '26', 'sbe_model': '9', 'start_time': 'Apr 14 2012 15:58:15 [System UTC, first data scan.]', 'instrument_type': 'CTD', 'nvalues': '989', 'LATITUDE': 16.594833333333334, 'bad_flag': '-9.990e-29'}\n",
      "{'gps_datetime': 'Apr 14 2012 23:30:01', 'LONGITUDE': -107.89983333333333, 'file_type': 'ascii', 'seasave': 'V 7.21b', 'datetime': datetime.datetime(2012, 4, 14, 23, 30, 3), 'md5': '3ebe320cb236f891d8f3a7d6f9ce2385', 'filename': 'sta161.cnv', 'nquan': '26', 'sbe_model': '9', 'start_time': 'Apr 14 2012 23:30:03 [System UTC, first data scan.]', 'instrument_type': 'CTD', 'nvalues': '1490', 'LATITUDE': 15.849666666666666, 'bad_flag': '-9.990e-29'}\n",
      "{'gps_datetime': 'Apr 15 2012 05:58:09', 'LONGITUDE': -108.53116666666666, 'file_type': 'ascii', 'seasave': 'V 7.21b', 'datetime': datetime.datetime(2012, 4, 15, 5, 58, 10), 'md5': '383ebcf611cd21d33f61f14470b41d2e', 'filename': 'sta162.cnv', 'nquan': '26', 'sbe_model': '9', 'start_time': 'Apr 15 2012 05:58:10 [System UTC, first data scan.]', 'instrument_type': 'CTD', 'nvalues': '1489', 'LATITUDE': 15.260166666666667, 'bad_flag': '-9.990e-29'}\n",
      "{'gps_datetime': 'Apr 15 2012 14:23:15', 'LONGITUDE': -109.31583333333333, 'file_type': 'ascii', 'seasave': 'V 7.21b', 'datetime': datetime.datetime(2012, 4, 15, 14, 23, 17), 'md5': 'a9024f25a3d52d2d32860dccb0814cd9', 'filename': 'sta163.cnv', 'nquan': '26', 'sbe_model': '9', 'start_time': 'Apr 15 2012 14:23:17 [System UTC, first data scan.]', 'instrument_type': 'CTD', 'nvalues': '1490', 'LATITUDE': 14.649666666666667, 'bad_flag': '-9.990e-29'}\n",
      "{'gps_datetime': 'Apr 15 2012 20:39:26', 'LONGITUDE': -109.99916666666667, 'file_type': 'ascii', 'seasave': 'V 7.21b', 'datetime': datetime.datetime(2012, 4, 15, 20, 39, 28), 'md5': '9b04bf53b72df570bf1459256c785fac', 'filename': 'sta164.cnv', 'nquan': '26', 'sbe_model': '9', 'start_time': 'Apr 15 2012 20:39:28 [System UTC, first data scan.]', 'instrument_type': 'CTD', 'nvalues': '488', 'LATITUDE': 14.0, 'bad_flag': '-9.990e-29'}\n",
      "{'gps_datetime': 'Apr 15 2012 23:09:36', 'LONGITUDE': -109.99916666666667, 'file_type': 'ascii', 'seasave': 'V 7.21b', 'datetime': datetime.datetime(2012, 4, 15, 23, 9, 38), 'md5': '3c944b93e82562579ca12026cb5726bd', 'filename': 'sta165.cnv', 'nquan': '26', 'sbe_model': '9', 'start_time': 'Apr 15 2012 23:09:38 [System UTC, first data scan.]', 'instrument_type': 'CTD', 'nvalues': '1489', 'LATITUDE': 14.0, 'bad_flag': '-9.990e-29'}\n",
      "{'gps_datetime': 'Apr 16 2012 03:18:10', 'LONGITUDE': -110.00033333333333, 'file_type': 'ascii', 'seasave': 'V 7.21b', 'datetime': datetime.datetime(2012, 4, 16, 3, 18, 11), 'md5': '6413de082b6739e6a926b43f46781f4b', 'filename': 'sta166.cnv', 'nquan': '26', 'sbe_model': '9', 'start_time': 'Apr 16 2012 03:18:11 [System UTC, first data scan.]', 'instrument_type': 'CTD', 'nvalues': '1489', 'LATITUDE': 14.499666666666666, 'bad_flag': '-9.990e-29'}\n",
      "{'gps_datetime': 'Apr 16 2012 07:52:36', 'LONGITUDE': -110.00016666666667, 'file_type': 'ascii', 'seasave': 'V 7.21b', 'datetime': datetime.datetime(2012, 4, 16, 7, 52, 38), 'md5': '287d7c5bfbb857da3f15c7ec859b25c5', 'filename': 'sta167.cnv', 'nquan': '26', 'sbe_model': '9', 'start_time': 'Apr 16 2012 07:52:38 [System UTC, first data scan.]', 'instrument_type': 'CTD', 'nvalues': '1491', 'LATITUDE': 14.9995, 'bad_flag': '-9.990e-29'}\n",
      "{'gps_datetime': 'Apr 16 2012 12:46:42', 'LONGITUDE': -110.0005, 'file_type': 'ascii', 'seasave': 'V 7.21b', 'datetime': datetime.datetime(2012, 4, 16, 12, 46, 43), 'md5': '27622f9c46003f41120256438dc3c93d', 'filename': 'sta168.cnv', 'nquan': '26', 'sbe_model': '9', 'start_time': 'Apr 16 2012 12:46:43 [System UTC, first data scan.]', 'instrument_type': 'CTD', 'nvalues': '1490', 'LATITUDE': 15.505333333333333, 'bad_flag': '-9.990e-29'}\n",
      "{'gps_datetime': 'Apr 16 2012 17:37:36', 'LONGITUDE': -109.99966666666667, 'file_type': 'ascii', 'seasave': 'V 7.21b', 'datetime': datetime.datetime(2012, 4, 16, 17, 37, 37), 'md5': '22dec3408e7cca1c2711b8e157cd4900', 'filename': 'sta169.cnv', 'nquan': '26', 'sbe_model': '9', 'start_time': 'Apr 16 2012 17:37:37 [System UTC, first data scan.]', 'instrument_type': 'CTD', 'nvalues': '1490', 'LATITUDE': 15.999666666666666, 'bad_flag': '-9.990e-29'}\n",
      "{'gps_datetime': 'Apr 16 2012 22:14:43', 'LONGITUDE': -109.99983333333333, 'file_type': 'ascii', 'seasave': 'V 7.21b', 'datetime': datetime.datetime(2012, 4, 16, 22, 14, 44), 'md5': 'cc4846f90481a1c1d410bc90c45ee135', 'filename': 'sta170.cnv', 'nquan': '26', 'sbe_model': '9', 'start_time': 'Apr 16 2012 22:14:44 [System UTC, first data scan.]', 'instrument_type': 'CTD', 'nvalues': '1492', 'LATITUDE': 16.498833333333334, 'bad_flag': '-9.990e-29'}\n",
      "{'gps_datetime': 'Apr 17 2012 02:46:30', 'LONGITUDE': -109.99916666666667, 'file_type': 'ascii', 'seasave': 'V 7.21b', 'datetime': datetime.datetime(2012, 4, 17, 2, 46, 31), 'md5': 'b6551575599f32ff983213a5c28fa7a5', 'filename': 'sta171.cnv', 'nquan': '26', 'sbe_model': '9', 'start_time': 'Apr 17 2012 02:46:31 [System UTC, first data scan.]', 'instrument_type': 'CTD', 'nvalues': '1489', 'LATITUDE': 17.0, 'bad_flag': '-9.990e-29'}\n",
      "{'gps_datetime': 'Apr 17 2012 07:14:19', 'LONGITUDE': -110.0, 'file_type': 'ascii', 'seasave': 'V 7.21b', 'datetime': datetime.datetime(2012, 4, 17, 7, 14, 21), 'md5': '633cf9625623ce8512fe17fec6511a69', 'filename': 'sta172.cnv', 'nquan': '26', 'sbe_model': '9', 'start_time': 'Apr 17 2012 07:14:21 [System UTC, first data scan.]', 'instrument_type': 'CTD', 'nvalues': '1491', 'LATITUDE': 17.4995, 'bad_flag': '-9.990e-29'}\n",
      "{'gps_datetime': 'Apr 17 2012 11:47:19', 'LONGITUDE': -110.0, 'file_type': 'ascii', 'seasave': 'V 7.21b', 'datetime': datetime.datetime(2012, 4, 17, 11, 47, 21), 'md5': '40e145388acb7ede9ccbaf1deed6573d', 'filename': 'sta173.cnv', 'nquan': '26', 'sbe_model': '9', 'start_time': 'Apr 17 2012 11:47:21 [System UTC, first data scan.]', 'instrument_type': 'CTD', 'nvalues': '1489', 'LATITUDE': 17.999833333333335, 'bad_flag': '-9.990e-29'}\n",
      "{'gps_datetime': 'Apr 17 2012 16:09:30', 'LONGITUDE': -110.0, 'file_type': 'ascii', 'seasave': 'V 7.21b', 'datetime': datetime.datetime(2012, 4, 17, 16, 9, 31), 'md5': '09c93fd8903568cae52455a23851b2d1', 'filename': 'sta174.cnv', 'nquan': '26', 'sbe_model': '9', 'start_time': 'Apr 17 2012 16:09:31 [System UTC, first data scan.]', 'instrument_type': 'CTD', 'nvalues': '1489', 'LATITUDE': 18.4995, 'bad_flag': '-9.990e-29'}\n",
      "{'gps_datetime': 'Apr 17 2012 17:44:21', 'LONGITUDE': -110.0, 'file_type': 'ascii', 'seasave': 'V 7.21b', 'datetime': datetime.datetime(2012, 4, 17, 17, 44, 22), 'md5': '5a4b13154ac45d4c1d7257072bc5ecef', 'filename': 'sta174_b.cnv', 'nquan': '26', 'sbe_model': '9', 'start_time': 'Apr 17 2012 17:44:22 [System UTC, first data scan.]', 'instrument_type': 'CTD', 'nvalues': '2', 'LATITUDE': 18.499166666666667, 'bad_flag': '-9.990e-29'}\n",
      "{'gps_datetime': 'Apr 17 2012 18:50:07', 'LONGITUDE': -110.00033333333333, 'file_type': 'ascii', 'seasave': 'V 7.21b', 'datetime': datetime.datetime(2012, 4, 17, 18, 50, 8), 'md5': '9c8453e8dbdb43381d25d47020c0687c', 'filename': 'sta175.cnv', 'nquan': '26', 'sbe_model': '9', 'start_time': 'Apr 17 2012 18:50:08 [System UTC, first data scan.]', 'instrument_type': 'CTD', 'nvalues': '113', 'LATITUDE': 18.499833333333335, 'bad_flag': '-9.990e-29'}\n",
      "{'gps_datetime': 'Apr 17 2012 22:05:02', 'LONGITUDE': -109.999, 'file_type': 'ascii', 'seasave': 'V 7.21b', 'datetime': datetime.datetime(2012, 4, 17, 22, 5, 4), 'md5': '3ca7dada4a4359d95157a4fa520d7eb9', 'filename': 'sta176.cnv', 'nquan': '26', 'sbe_model': '9', 'start_time': 'Apr 17 2012 22:05:04 [System UTC, first data scan.]', 'instrument_type': 'CTD', 'nvalues': '1488', 'LATITUDE': 18.998833333333334, 'bad_flag': '-9.990e-29'}\n",
      "{'gps_datetime': 'Apr 18 2012 02:49:37', 'LONGITUDE': -110.0, 'file_type': 'ascii', 'seasave': 'V 7.21b', 'datetime': datetime.datetime(2012, 4, 18, 2, 49, 39), 'md5': 'e9aed513b75b8946b0cdbac084380d2c', 'filename': 'sta177.cnv', 'nquan': '26', 'sbe_model': '9', 'start_time': 'Apr 18 2012 02:49:39 [System UTC, first data scan.]', 'instrument_type': 'CTD', 'nvalues': '1489', 'LATITUDE': 19.5, 'bad_flag': '-9.990e-29'}\n",
      "{'gps_datetime': 'Apr 18 2012 07:28:12', 'LONGITUDE': -110.00066666666666, 'file_type': 'ascii', 'seasave': 'V 7.21b', 'datetime': datetime.datetime(2012, 4, 18, 7, 28, 13), 'md5': '6be334502571a81f4f1636d4257c13b3', 'filename': 'sta178.cnv', 'nquan': '26', 'sbe_model': '9', 'start_time': 'Apr 18 2012 07:28:13 [System UTC, first data scan.]', 'instrument_type': 'CTD', 'nvalues': '1488', 'LATITUDE': 19.9995, 'bad_flag': '-9.990e-29'}\n",
      "{'gps_datetime': 'Apr 18 2012 12:02:21', 'LONGITUDE': -110.00033333333333, 'file_type': 'ascii', 'seasave': 'V 7.21b', 'datetime': datetime.datetime(2012, 4, 18, 12, 2, 23), 'md5': 'cbd2884ee7a768ae1e6e88f3ac28a10e', 'filename': 'sta179.cnv', 'nquan': '26', 'sbe_model': '9', 'start_time': 'Apr 18 2012 12:02:23 [System UTC, first data scan.]', 'instrument_type': 'CTD', 'nvalues': '1488', 'LATITUDE': 20.4995, 'bad_flag': '-9.990e-29'}\n",
      "{'gps_datetime': 'Mar 22 2012 01:14:31', 'LONGITUDE': -110.27333333333333, 'file_type': 'ascii', 'seasave': 'V 7.21b', 'datetime': datetime.datetime(2012, 3, 22, 1, 14, 33), 'md5': '57c81f7fff9b570b1bf2a21e5ea71f4e', 'filename': 'sta18.cnv', 'nquan': '26', 'sbe_model': '9', 'start_time': 'Mar 22 2012 01:14:33 [System UTC, first data scan.]', 'instrument_type': 'CTD', 'nvalues': '86', 'LATITUDE': 23.318833333333334, 'bad_flag': '-9.990e-29'}\n",
      "{'gps_datetime': 'Apr 18 2012 16:21:19', 'LONGITUDE': -109.9995, 'file_type': 'ascii', 'seasave': 'V 7.21b', 'datetime': datetime.datetime(2012, 4, 18, 16, 21, 20), 'md5': '5b734781ed03e3a0dd8ed327638df8a1', 'filename': 'sta180.cnv', 'nquan': '26', 'sbe_model': '9', 'start_time': 'Apr 18 2012 16:21:20 [System UTC, first data scan.]', 'instrument_type': 'CTD', 'nvalues': '1489', 'LATITUDE': 21.000666666666667, 'bad_flag': '-9.990e-29'}\n",
      "{'gps_datetime': 'Apr 18 2012 21:14:55', 'LONGITUDE': -110.0, 'file_type': 'ascii', 'seasave': 'V 7.21b', 'datetime': datetime.datetime(2012, 4, 18, 21, 14, 56), 'md5': '48427b3ac9a60848596be1f39c037c94', 'filename': 'sta181.cnv', 'nquan': '26', 'sbe_model': '9', 'start_time': 'Apr 18 2012 21:14:56 [System UTC, first data scan.]', 'instrument_type': 'CTD', 'nvalues': '1488', 'LATITUDE': 21.4995, 'bad_flag': '-9.990e-29'}\n",
      "{'gps_datetime': 'Apr 18 2012 23:26:54', 'LONGITUDE': -110.0, 'file_type': 'ascii', 'seasave': 'V 7.21b', 'datetime': datetime.datetime(2012, 4, 18, 23, 26, 56), 'md5': '713092b2cce187ca7efa434b4f57cab0', 'filename': 'sta182.cnv', 'nquan': '26', 'sbe_model': '9', 'start_time': 'Apr 18 2012 23:26:56 [System UTC, first data scan.]', 'instrument_type': 'CTD', 'nvalues': '489', 'LATITUDE': 21.4995, 'bad_flag': '-9.990e-29'}\n",
      "{'gps_datetime': 'Apr 19 2012 02:45:38', 'LONGITUDE': -109.99983333333333, 'file_type': 'ascii', 'seasave': 'V 7.21b', 'datetime': datetime.datetime(2012, 4, 19, 2, 45, 40), 'md5': '91e8ab7a1791f9c42458b7d15a0cb24d', 'filename': 'sta183.cnv', 'nquan': '26', 'sbe_model': '9', 'start_time': 'Apr 19 2012 02:45:40 [System UTC, first data scan.]', 'instrument_type': 'CTD', 'nvalues': '1490', 'LATITUDE': 21.999833333333335, 'bad_flag': '-9.990e-29'}\n",
      "{'gps_datetime': 'Apr 19 2012 07:28:47', 'LONGITUDE': -109.9995, 'file_type': 'ascii', 'seasave': 'V 7.21b', 'datetime': datetime.datetime(2012, 4, 19, 7, 28, 49), 'md5': '41fe0af5262ef28c218fca2959ca0337', 'filename': 'sta184.cnv', 'nquan': '26', 'sbe_model': '9', 'start_time': 'Apr 19 2012 07:28:49 [System UTC, first data scan.]', 'instrument_type': 'CTD', 'nvalues': '1488', 'LATITUDE': 22.4995, 'bad_flag': '-9.990e-29'}\n",
      "{'gps_datetime': 'Apr 19 2012 11:04:33', 'LONGITUDE': -109.999, 'file_type': 'ascii', 'seasave': 'V 7.21b', 'datetime': datetime.datetime(2012, 4, 19, 11, 4, 34), 'md5': 'c27123673e1a504cd43fd5fb4512ba03', 'filename': 'sta185.cnv', 'nquan': '26', 'sbe_model': '9', 'start_time': 'Apr 19 2012 11:04:34 [System UTC, first data scan.]', 'instrument_type': 'CTD', 'nvalues': '1488', 'LATITUDE': 22.749666666666666, 'bad_flag': '-9.990e-29'}\n",
      "{'gps_datetime': 'Apr 19 2012 16:19:39', 'LONGITUDE': -110.69966666666667, 'file_type': 'ascii', 'seasave': 'V 7.21b', 'datetime': datetime.datetime(2012, 4, 19, 16, 19, 41), 'md5': 'ff4b7034ab59974568b244357f15f28b', 'filename': 'sta186.cnv', 'nquan': '26', 'sbe_model': '9', 'start_time': 'Apr 19 2012 16:19:41 [System UTC, first data scan.]', 'instrument_type': 'CTD', 'nvalues': '1489', 'LATITUDE': 22.799833333333332, 'bad_flag': '-9.990e-29'}\n",
      "{'gps_datetime': 'Apr 19 2012 21:31:33', 'LONGITUDE': -111.39966666666666, 'file_type': 'ascii', 'seasave': 'V 7.21b', 'datetime': datetime.datetime(2012, 4, 19, 21, 31, 35), 'md5': '9073726f4f019cbdfd54e74b1ffdf1d6', 'filename': 'sta187.cnv', 'nquan': '26', 'sbe_model': '9', 'start_time': 'Apr 19 2012 21:31:35 [System UTC, first data scan.]', 'instrument_type': 'CTD', 'nvalues': '1488', 'LATITUDE': 22.799833333333332, 'bad_flag': '-9.990e-29'}\n",
      "{'gps_datetime': 'Apr 20 2012 00:30:29', 'LONGITUDE': -111.39966666666666, 'file_type': 'ascii', 'seasave': 'V 7.21b', 'datetime': datetime.datetime(2012, 4, 20, 0, 30, 31), 'md5': '1e77493f2fad125cb528ee31141be0c3', 'filename': 'sta188.cnv', 'nquan': '26', 'sbe_model': '9', 'start_time': 'Apr 20 2012 00:30:31 [System UTC, first data scan.]', 'instrument_type': 'CTD', 'nvalues': '488', 'LATITUDE': 22.799833333333332, 'bad_flag': '-9.990e-29'}\n",
      "{'gps_datetime': 'Apr 20 2012 03:19:09', 'LONGITUDE': -111.8, 'file_type': 'ascii', 'seasave': 'V 7.21b', 'datetime': datetime.datetime(2012, 4, 20, 3, 19, 11), 'md5': 'b0d0a6cda6ebfab7c039dfb41ff2f00b', 'filename': 'sta189.cnv', 'nquan': '26', 'sbe_model': '9', 'start_time': 'Apr 20 2012 03:19:11 [System UTC, first data scan.]', 'instrument_type': 'CTD', 'nvalues': '1488', 'LATITUDE': 22.799833333333332, 'bad_flag': '-9.990e-29'}\n",
      "{'gps_datetime': 'Mar 23 2012 19:42:24', 'LONGITUDE': -108.4435, 'file_type': 'ascii', 'seasave': 'V 7.21b', 'datetime': datetime.datetime(2012, 3, 23, 19, 42, 25), 'md5': 'e9015ef14373e7a0d597e88894dceef0', 'filename': 'staEric.cnv', 'nquan': '26', 'sbe_model': '9', 'start_time': 'Mar 23 2012 19:42:25 [System UTC, first data scan.]', 'instrument_type': 'CTD', 'nvalues': '138', 'LATITUDE': 21.7375, 'bad_flag': '-9.990e-29'}\n"
     ]
    }
   ],
   "source": [
    "AllData = pandas.DataFrame(columns=('timeS', 'pres', 'depth', 'temp', 'psal', 'oxygen', 'latitude', 'longitude', 'unix', 'filename'))\n",
    "AllData\n",
    "for file in filelist:\n",
    "    CTD = fCNV(file)\n",
    "    CTDinfo = CTD.attributes\n",
    "    print(CTD.attributes)\n",
    "    dt = CTDinfo['datetime']\n",
    "    #print(CTDinfo)\n",
    "    #dt.second\n",
    "    #int(dt.strftime(\"%s\"))\n",
    "    start_unix=calendar.timegm(dt.utctimetuple())\n",
    "    #print(start_unix)\n",
    "    CTDdata = pandas.DataFrame([CTD['timeS'], CTD['PRES'], CTD['DEPTH'], CTD['TEMP'], CTD['PSAL'], CTD['sbeox1Mm/Kg']]).T\n",
    "    CTDdata.columns = ('timeS', 'pres', 'depth', 'temp', 'psal', 'oxygen')\n",
    "    CTDdata['latitude'] = CTDinfo['LATITUDE']\n",
    "    CTDdata['longitude'] = CTDinfo['LONGITUDE']\n",
    "    CTDdata['unix']=start_unix + CTDdata['timeS']\n",
    "    CTDdata['filename'] = CTDinfo['filename']\n",
    "    #print(max(CTDdata['depth']))\n",
    "    if max(CTDdata['depth'])>1000: #select for the deep casts\n",
    "        AllData = AllData.append(CTDdata, ignore_index=True)\n",
    "        #print(max(CTDdata['depth']))\n",
    "       "
   ]
  },
  {
   "cell_type": "code",
   "execution_count": 68,
   "metadata": {
    "collapsed": false
   },
   "outputs": [
    {
     "data": {
      "text/plain": [
       "0    13.092\n",
       "1    14.100\n",
       "2    15.107\n",
       "3    16.114\n",
       "4    17.121\n",
       "5    18.128\n",
       "6    19.135\n",
       "7    20.142\n",
       "8    21.149\n",
       "9    22.157\n",
       "Name: pres, dtype: float64"
      ]
     },
     "execution_count": 68,
     "metadata": {},
     "output_type": "execute_result"
    }
   ],
   "source": [
    "AllData.shape\n",
    "#AllData['pres'][0:10]\n",
    "#CTD.keys()"
   ]
  },
  {
   "cell_type": "code",
   "execution_count": 62,
   "metadata": {
    "collapsed": false
   },
   "outputs": [],
   "source": [
    "#plt.plot(CTD['oxygen'], CTD['sbeox1Mm/Kg'], 'o', linewidth=1)\n",
    "#Still not sure what the units are for 'oxygen', will use 'sbeox1Mm/Kg'"
   ]
  },
  {
   "cell_type": "code",
   "execution_count": null,
   "metadata": {
    "collapsed": false
   },
   "outputs": [],
   "source": [
    "#convert oxygen to po2\n",
    "\n"
   ]
  },
  {
   "cell_type": "code",
   "execution_count": null,
   "metadata": {
    "collapsed": false
   },
   "outputs": [],
   "source": []
  },
  {
   "cell_type": "code",
   "execution_count": 5,
   "metadata": {
    "collapsed": false
   },
   "outputs": [],
   "source": [
    "#hold = pandas.to_datetime(CTDdata['unix'], unit='s')\n",
    "#hold.dt.year\n",
    "#pandas.to_datetime(CTDdata['unix'], unit='s').dt.second"
   ]
  },
  {
   "cell_type": "code",
   "execution_count": 6,
   "metadata": {
    "collapsed": false
   },
   "outputs": [
    {
     "data": {
      "text/plain": [
       "[0, 232.446, -170.0, 0]"
      ]
     },
     "execution_count": 6,
     "metadata": {},
     "output_type": "execute_result"
    },
    {
     "data": {
      "image/png": "[encoded data removed]",
      "text/plain": [
       "<matplotlib.figure.Figure at 0x11653c550>"
      ]
     },
     "metadata": {},
     "output_type": "display_data"
    }
   ],
   "source": [
    "plt.plot(CTDdata['oxygen'], CTDdata['depth']*-1, 'o', linewidth=1)\n",
    "plt.axis([0, max(CTDdata['oxygen'])+20, min(CTDdata['depth']*-1)-20, 0]) #[xmin, xmax, ymin, ymax]"
   ]
  },
  {
   "cell_type": "code",
   "execution_count": 7,
   "metadata": {
    "collapsed": false
   },
   "outputs": [
    {
     "data": {
      "text/plain": [
       "[4, 24.895499999999998, -170.0, 0]"
      ]
     },
     "execution_count": 7,
     "metadata": {},
     "output_type": "execute_result"
    },
    {
     "data": {
      "image/png": "[encoded data removed]",
      "text/plain": [
       "<matplotlib.figure.Figure at 0x116610208>"
      ]
     },
     "metadata": {},
     "output_type": "display_data"
    }
   ],
   "source": [
    "plt.plot(CTDdata['temp'], CTDdata['depth']*-1, 'ro', linewidth=1)\n",
    "plt.axis([4, max(CTDdata['temp'])+2, min(CTDdata['depth']*-1)-20, 0]) #[xmin, xmax, ymin, ymax]"
   ]
  },
  {
   "cell_type": "code",
   "execution_count": null,
   "metadata": {
    "collapsed": false
   },
   "outputs": [],
   "source": []
  },
  {
   "cell_type": "code",
   "execution_count": null,
   "metadata": {
    "collapsed": true
   },
   "outputs": [],
   "source": []
  },
  {
   "cell_type": "code",
   "execution_count": null,
   "metadata": {
    "collapsed": true
   },
   "outputs": [],
   "source": []
  },
  {
   "cell_type": "code",
   "execution_count": null,
   "metadata": {
    "collapsed": true
   },
   "outputs": [],
   "source": []
  },
  {
   "cell_type": "code",
   "execution_count": null,
   "metadata": {
    "collapsed": true
   },
   "outputs": [],
   "source": []
  },
  {
   "cell_type": "code",
   "execution_count": null,
   "metadata": {
    "collapsed": true
   },
   "outputs": [],
   "source": []
  },
  {
   "cell_type": "code",
   "execution_count": null,
   "metadata": {
    "collapsed": true
   },
   "outputs": [],
   "source": []
  },
  {
   "cell_type": "code",
   "execution_count": null,
   "metadata": {
    "collapsed": true
   },
   "outputs": [],
   "source": []
  },
  {
   "cell_type": "code",
   "execution_count": null,
   "metadata": {
    "collapsed": true
   },
   "outputs": [],
   "source": []
  },
  {
   "cell_type": "code",
   "execution_count": null,
   "metadata": {
    "collapsed": true
   },
   "outputs": [],
   "source": []
  }
 ],
 "metadata": {
  "kernelspec": {
   "display_name": "Python 3",
   "language": "python",
   "name": "python3"
  },
  "language_info": {
   "codemirror_mode": {
    "name": "ipython",
    "version": 3
   },
   "file_extension": ".py",
   "mimetype": "text/x-python",
   "name": "python",
   "nbconvert_exporter": "python",
   "pygments_lexer": "ipython3",
   "version": "3.5.2"
  }
 },
 "nbformat": 4,
 "nbformat_minor": 0
}
